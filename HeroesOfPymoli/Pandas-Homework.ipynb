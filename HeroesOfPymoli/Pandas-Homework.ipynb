{
 "cells": [
  {
   "cell_type": "markdown",
   "metadata": {},
   "source": [
    "### Note\n",
    "* Instructions have been included for each segment. You do not have to follow them exactly, but they are included to help you think through the steps."
   ]
  },
  {
   "cell_type": "code",
   "execution_count": 9,
   "metadata": {},
   "outputs": [
    {
     "data": {
      "text/html": [
       "<div>\n",
       "<style scoped>\n",
       "    .dataframe tbody tr th:only-of-type {\n",
       "        vertical-align: middle;\n",
       "    }\n",
       "\n",
       "    .dataframe tbody tr th {\n",
       "        vertical-align: top;\n",
       "    }\n",
       "\n",
       "    .dataframe thead th {\n",
       "        text-align: right;\n",
       "    }\n",
       "</style>\n",
       "<table border=\"1\" class=\"dataframe\">\n",
       "  <thead>\n",
       "    <tr style=\"text-align: right;\">\n",
       "      <th></th>\n",
       "      <th>Purchase ID</th>\n",
       "      <th>SN</th>\n",
       "      <th>Age</th>\n",
       "      <th>Gender</th>\n",
       "      <th>Item ID</th>\n",
       "      <th>Item Name</th>\n",
       "      <th>Price</th>\n",
       "    </tr>\n",
       "  </thead>\n",
       "  <tbody>\n",
       "    <tr>\n",
       "      <th>0</th>\n",
       "      <td>0</td>\n",
       "      <td>Lisim78</td>\n",
       "      <td>20</td>\n",
       "      <td>Male</td>\n",
       "      <td>108</td>\n",
       "      <td>Extraction, Quickblade Of Trembling Hands</td>\n",
       "      <td>3.53</td>\n",
       "    </tr>\n",
       "    <tr>\n",
       "      <th>1</th>\n",
       "      <td>1</td>\n",
       "      <td>Lisovynya38</td>\n",
       "      <td>40</td>\n",
       "      <td>Male</td>\n",
       "      <td>143</td>\n",
       "      <td>Frenzied Scimitar</td>\n",
       "      <td>1.56</td>\n",
       "    </tr>\n",
       "    <tr>\n",
       "      <th>2</th>\n",
       "      <td>2</td>\n",
       "      <td>Ithergue48</td>\n",
       "      <td>24</td>\n",
       "      <td>Male</td>\n",
       "      <td>92</td>\n",
       "      <td>Final Critic</td>\n",
       "      <td>4.88</td>\n",
       "    </tr>\n",
       "    <tr>\n",
       "      <th>3</th>\n",
       "      <td>3</td>\n",
       "      <td>Chamassasya86</td>\n",
       "      <td>24</td>\n",
       "      <td>Male</td>\n",
       "      <td>100</td>\n",
       "      <td>Blindscythe</td>\n",
       "      <td>3.27</td>\n",
       "    </tr>\n",
       "    <tr>\n",
       "      <th>4</th>\n",
       "      <td>4</td>\n",
       "      <td>Iskosia90</td>\n",
       "      <td>23</td>\n",
       "      <td>Male</td>\n",
       "      <td>131</td>\n",
       "      <td>Fury</td>\n",
       "      <td>1.44</td>\n",
       "    </tr>\n",
       "    <tr>\n",
       "      <th>...</th>\n",
       "      <td>...</td>\n",
       "      <td>...</td>\n",
       "      <td>...</td>\n",
       "      <td>...</td>\n",
       "      <td>...</td>\n",
       "      <td>...</td>\n",
       "      <td>...</td>\n",
       "    </tr>\n",
       "    <tr>\n",
       "      <th>775</th>\n",
       "      <td>775</td>\n",
       "      <td>Aethedru70</td>\n",
       "      <td>21</td>\n",
       "      <td>Female</td>\n",
       "      <td>60</td>\n",
       "      <td>Wolf</td>\n",
       "      <td>3.54</td>\n",
       "    </tr>\n",
       "    <tr>\n",
       "      <th>776</th>\n",
       "      <td>776</td>\n",
       "      <td>Iral74</td>\n",
       "      <td>21</td>\n",
       "      <td>Male</td>\n",
       "      <td>164</td>\n",
       "      <td>Exiled Doomblade</td>\n",
       "      <td>1.63</td>\n",
       "    </tr>\n",
       "    <tr>\n",
       "      <th>777</th>\n",
       "      <td>777</td>\n",
       "      <td>Yathecal72</td>\n",
       "      <td>20</td>\n",
       "      <td>Male</td>\n",
       "      <td>67</td>\n",
       "      <td>Celeste, Incarnation of the Corrupted</td>\n",
       "      <td>3.46</td>\n",
       "    </tr>\n",
       "    <tr>\n",
       "      <th>778</th>\n",
       "      <td>778</td>\n",
       "      <td>Sisur91</td>\n",
       "      <td>7</td>\n",
       "      <td>Male</td>\n",
       "      <td>92</td>\n",
       "      <td>Final Critic</td>\n",
       "      <td>4.19</td>\n",
       "    </tr>\n",
       "    <tr>\n",
       "      <th>779</th>\n",
       "      <td>779</td>\n",
       "      <td>Ennrian78</td>\n",
       "      <td>24</td>\n",
       "      <td>Male</td>\n",
       "      <td>50</td>\n",
       "      <td>Dawn</td>\n",
       "      <td>4.60</td>\n",
       "    </tr>\n",
       "  </tbody>\n",
       "</table>\n",
       "<p>780 rows × 7 columns</p>\n",
       "</div>"
      ],
      "text/plain": [
       "     Purchase ID             SN  Age  Gender  Item ID  \\\n",
       "0              0        Lisim78   20    Male      108   \n",
       "1              1    Lisovynya38   40    Male      143   \n",
       "2              2     Ithergue48   24    Male       92   \n",
       "3              3  Chamassasya86   24    Male      100   \n",
       "4              4      Iskosia90   23    Male      131   \n",
       "..           ...            ...  ...     ...      ...   \n",
       "775          775     Aethedru70   21  Female       60   \n",
       "776          776         Iral74   21    Male      164   \n",
       "777          777     Yathecal72   20    Male       67   \n",
       "778          778        Sisur91    7    Male       92   \n",
       "779          779      Ennrian78   24    Male       50   \n",
       "\n",
       "                                     Item Name  Price  \n",
       "0    Extraction, Quickblade Of Trembling Hands   3.53  \n",
       "1                            Frenzied Scimitar   1.56  \n",
       "2                                 Final Critic   4.88  \n",
       "3                                  Blindscythe   3.27  \n",
       "4                                         Fury   1.44  \n",
       "..                                         ...    ...  \n",
       "775                                       Wolf   3.54  \n",
       "776                           Exiled Doomblade   1.63  \n",
       "777      Celeste, Incarnation of the Corrupted   3.46  \n",
       "778                               Final Critic   4.19  \n",
       "779                                       Dawn   4.60  \n",
       "\n",
       "[780 rows x 7 columns]"
      ]
     },
     "execution_count": 9,
     "metadata": {},
     "output_type": "execute_result"
    }
   ],
   "source": [
    "# Dependencies and Setup\n",
    "import pandas as pd\n",
    "\n",
    "# File to Load (Remember to Change These)\n",
    "file = \"Resources/Homework_04-Pandas_Instructions_HeroesOfPymoli_Resources_purchase_data.csv\"\n",
    "\n",
    "\n",
    "# Read Purchasing File and store into Pandas data frame\n",
    "purchase_data_df = pd.read_csv(file)\n",
    "\n",
    "purchase_data_df"
   ]
  },
  {
   "cell_type": "markdown",
   "metadata": {},
   "source": [
    "## Player Count"
   ]
  },
  {
   "cell_type": "code",
   "execution_count": 166,
   "metadata": {},
   "outputs": [
    {
     "data": {
      "text/plain": [
       "576"
      ]
     },
     "execution_count": 166,
     "metadata": {},
     "output_type": "execute_result"
    }
   ],
   "source": [
    "# first i wanted to get the total counts of the ids. \n",
    "len(purchase_data_df[\"SN\"].value_counts())"
   ]
  },
  {
   "cell_type": "code",
   "execution_count": 167,
   "metadata": {},
   "outputs": [],
   "source": [
    "# then i wanted to save it \n",
    "total_player = len(purchase_data_df[\"SN\"].value_counts())"
   ]
  },
  {
   "cell_type": "markdown",
   "metadata": {},
   "source": [
    "* Display the total number of players\n"
   ]
  },
  {
   "cell_type": "code",
   "execution_count": 168,
   "metadata": {},
   "outputs": [
    {
     "data": {
      "text/html": [
       "<div>\n",
       "<style scoped>\n",
       "    .dataframe tbody tr th:only-of-type {\n",
       "        vertical-align: middle;\n",
       "    }\n",
       "\n",
       "    .dataframe tbody tr th {\n",
       "        vertical-align: top;\n",
       "    }\n",
       "\n",
       "    .dataframe thead th {\n",
       "        text-align: right;\n",
       "    }\n",
       "</style>\n",
       "<table border=\"1\" class=\"dataframe\">\n",
       "  <thead>\n",
       "    <tr style=\"text-align: right;\">\n",
       "      <th></th>\n",
       "      <th>Total Player</th>\n",
       "    </tr>\n",
       "  </thead>\n",
       "  <tbody>\n",
       "    <tr>\n",
       "      <th>0</th>\n",
       "      <td>576</td>\n",
       "    </tr>\n",
       "  </tbody>\n",
       "</table>\n",
       "</div>"
      ],
      "text/plain": [
       "   Total Player\n",
       "0           576"
      ]
     },
     "execution_count": 168,
     "metadata": {},
     "output_type": "execute_result"
    }
   ],
   "source": [
    "#in order to get the format correct I had to save it as a DataFrame and print that \n",
    "tp_df = pd.DataFrame({\"Total Player\": [total_player]})\n",
    "tp_df"
   ]
  },
  {
   "cell_type": "markdown",
   "metadata": {},
   "source": [
    "## Purchasing Analysis (Total)"
   ]
  },
  {
   "cell_type": "markdown",
   "metadata": {},
   "source": [
    "* Run basic calculations to obtain number of unique items, average price, etc.\n",
    "\n",
    "\n",
    "* Create a summary data frame to hold the results\n",
    "\n",
    "\n",
    "* Optional: give the displayed data cleaner formatting\n",
    "\n",
    "\n",
    "* Display the summary data frame\n"
   ]
  },
  {
   "cell_type": "code",
   "execution_count": 13,
   "metadata": {
    "scrolled": true
   },
   "outputs": [
    {
     "data": {
      "text/plain": [
       "array(['Extraction, Quickblade Of Trembling Hands', 'Frenzied Scimitar',\n",
       "       'Final Critic', 'Blindscythe', 'Fury', 'Dreamkiss',\n",
       "       'Interrogator, Blood Blade of the Queen', 'Abyssal Shard',\n",
       "       'Souleater', 'Ghastly Adamantite Protector',\n",
       "       'Singed Onyx Warscythe', 'Renewed Skeletal Katana',\n",
       "       \"Bloodlord's Fetish\", 'Bone Crushing Silver Skewer',\n",
       "       'Deadline, Voice Of Subtlety', 'Second Chance', 'Devine',\n",
       "       'Nirvana', 'Blazefury, Protector of Delusions',\n",
       "       'Despair, Favor of Due Diligence',\n",
       "       'Sun Strike, Jaws of Twisted Visions', 'Warped Fetish',\n",
       "       'Severance', 'Persuasion',\n",
       "       'Oathbreaker, Last Hope of the Breaking Storm', 'Demise',\n",
       "       'Blood-Forged Skeletal Spine',\n",
       "       'Stormbringer, Dark Blade of Ending Misery',\n",
       "       'Shadow Strike, Glory of Ending Hope', 'Striker',\n",
       "       'Wolf, Promise of the Moonwalker', \"Faith's Scimitar\",\n",
       "       'Bonecarvin Battle Axe', 'Azurewrath', 'Vengeance Cleaver',\n",
       "       'Haunted Bronzed Bludgeon', 'Ritual Mace', 'Blade of the Grave',\n",
       "       'Thorn, Satchel of Dark Souls', \"Winter's Bite\",\n",
       "       'Thorn, Conqueror of the Corrupted', \"Reaper's Toll\", 'Avenger',\n",
       "       'Shadowsteel', 'Peacekeeper, Wit of Dark Magic', 'Suspension',\n",
       "       'Amnesia', 'Soul Infused Crystal', 'Wolf',\n",
       "       'Relentless Iron Skewer', 'Hero Cane', 'Arcane Gem', 'Dreamsong',\n",
       "       'Darkheart', 'Hailstorm Shadowsteel Scythe',\n",
       "       'Whistling Mithril Warblade', 'Foul Titanium Battle Axe',\n",
       "       'Retribution Axe', 'Rusty Skull',\n",
       "       'Riddle, Tribute of Ended Dreams', 'Chaos, Ender of the End',\n",
       "       'Storm-Weaver, Slayer of Inception', 'Venom Claymore',\n",
       "       'Emberling, Defender of Delusions', 'Netherbane', 'Dawn',\n",
       "       'Primitive Blade', 'Dawne', 'Curved Axe',\n",
       "       'Fate, Vengeance of Eternal Justice',\n",
       "       'Lazarus, Terror of the Earth', 'Lightning, Etcher of the King',\n",
       "       'Betrayal, Whisper of Grieving Widows', 'Exiled Doomblade',\n",
       "       'Undead Crusader', 'Downfall, Scalpel Of The Emperor',\n",
       "       'Sleepwalker', 'Eternal Cleaver',\n",
       "       'Expiration, Warscythe Of Lost Worlds', 'Malificent Bag',\n",
       "       'Mercy, Katana of Dismay', 'Orbit', 'Deathraze', 'Serenity',\n",
       "       'Heartstriker, Legacy of the Light', 'Glimmer, Ender of the Moon',\n",
       "       'Deluge, Edge of the West', 'Crucifer', 'Piece Maker',\n",
       "       'Brutality Ivory Warmace', \"Freak's Bite, Favor of Holy Might\",\n",
       "       'Yearning Crusher', 'Agatha', 'Fiery Glass Crusader', 'Splinter',\n",
       "       'Verdict', 'Warped Iron Scimitar',\n",
       "       'Darkheart, Butcher of the Champion', 'Purgatory, Gem of Regret',\n",
       "       'Woeful Adamantite Claymore', 'Hopeless Ebon Dualblade',\n",
       "       \"Warmonger, Gift of Suffering's End\", \"Misery's End\",\n",
       "       'Phantomlight', 'Conqueror Adamantite Mace', \"Dragon's Greatsword\",\n",
       "       'Stormcaller', 'Spada, Etcher of Hatred', \"Twilight's Carver\",\n",
       "       'Putrid Fan', 'Blood Infused Guardian', 'Singed Scalpel',\n",
       "       'Warped Diamond Crusader', 'Endbringer', 'Feral Katana', 'Orenmir',\n",
       "       'Piety, Guardian of Riddles', 'Brimstone', 'Stormfury Mace',\n",
       "       'Frenzy, Defender of the Harvest', \"Solitude's Reaver\",\n",
       "       'Mercenary Sabre', 'Yearning Mageblade',\n",
       "       'Tranquility, Razor of Black Magic',\n",
       "       'Oathbreaker, Spellblade of Trials',\n",
       "       'Aetherius, Boon of the Blessed', 'Righteous Might',\n",
       "       'Victor Iron Spikes', 'Swan Song, Gouger Of Terror',\n",
       "       'Thunderfury Scimitar', 'Splitter, Foe Of Subtlety',\n",
       "       'Restored Bauble', 'The Decapitator',\n",
       "       'Pursuit, Cudgel of Necromancy', 'Lifebender',\n",
       "       'Flux, Destroyer of Due Diligence', 'Mourning Blade', 'Toothpick',\n",
       "       \"Hope's End\", 'Torchlight, Bond of Storms', 'Thirsty Iron Reaver',\n",
       "       'Stormfury Longsword', 'Malice, Legacy of the Queen',\n",
       "       'War-Forged Gold Deflector', 'Blazeguard, Reach of Eternity',\n",
       "       'Soul-Forged Steel Shortsword',\n",
       "       'Hellreaver, Heirloom of Inception', 'Heartless Bone Dualblade',\n",
       "       'Scalpel', 'Hatred', 'Crying Steel Sickle',\n",
       "       'The Void, Vengeance of Dark Magic', 'Celeste',\n",
       "       'Ghost Reaver, Longsword of Magic',\n",
       "       'Celeste, Incarnation of the Corrupted', 'Glinting Glass Edge',\n",
       "       'The Oculus, Token of Lost Worlds', 'Massacre',\n",
       "       'Alpha, Oath of Zeal', 'Possessed Core', 'Foul Edge', 'Trickster',\n",
       "       'Fusion Pummel', 'Stormfury Lantern', 'Apocalyptic Battlescythe',\n",
       "       'Unholy Wand', 'Unending Tyranny', 'Ragnarok',\n",
       "       'Rage, Legacy of the Lone Victor', 'Worldbreaker',\n",
       "       'Exiled Mithril Longsword', 'Spectral Diamond Doomblade',\n",
       "       'Vindictive Glass Edge', 'Heartseeker, Reaver of Souls',\n",
       "       'Alpha, Reach of Ending Hope', 'Alpha', 'Betrayer',\n",
       "       'Winterthorn, Defender of Shifting Worlds', \"Gladiator's Glaive\"],\n",
       "      dtype=object)"
      ]
     },
     "execution_count": 13,
     "metadata": {},
     "output_type": "execute_result"
    }
   ],
   "source": [
    "# Number of Unique Items, Average Price, Number of Purchases, Total Revenue\n",
    "purchase_data_df[\"Item Name\"].unique()"
   ]
  },
  {
   "cell_type": "code",
   "execution_count": 16,
   "metadata": {},
   "outputs": [
    {
     "data": {
      "text/plain": [
       "179"
      ]
     },
     "execution_count": 16,
     "metadata": {},
     "output_type": "execute_result"
    }
   ],
   "source": [
    "# unique items-added to DataFrame Later\n",
    "number_of_unique_items = len(purchase_data_df[\"Item Name\"].unique())\n",
    "number_of_unique_items"
   ]
  },
  {
   "cell_type": "code",
   "execution_count": 19,
   "metadata": {},
   "outputs": [
    {
     "data": {
      "text/plain": [
       "3.050987179487176"
      ]
     },
     "execution_count": 19,
     "metadata": {},
     "output_type": "execute_result"
    }
   ],
   "source": [
    "# avearge price. will format later\n",
    "average_price = purchase_data_df[\"Price\"].mean()\n",
    "average_price"
   ]
  },
  {
   "cell_type": "code",
   "execution_count": 21,
   "metadata": {},
   "outputs": [
    {
     "data": {
      "text/plain": [
       "780"
      ]
     },
     "execution_count": 21,
     "metadata": {},
     "output_type": "execute_result"
    }
   ],
   "source": [
    "number_of_purchases = purchase_data_df[\"Purchase ID\"].count()\n",
    "number_of_purchases"
   ]
  },
  {
   "cell_type": "code",
   "execution_count": 23,
   "metadata": {},
   "outputs": [
    {
     "data": {
      "text/plain": [
       "2379.77"
      ]
     },
     "execution_count": 23,
     "metadata": {},
     "output_type": "execute_result"
    }
   ],
   "source": [
    "total_revenue = purchase_data_df[\"Price\"].sum()\n",
    "total_revenue"
   ]
  },
  {
   "cell_type": "code",
   "execution_count": 45,
   "metadata": {},
   "outputs": [
    {
     "data": {
      "text/html": [
       "<div>\n",
       "<style scoped>\n",
       "    .dataframe tbody tr th:only-of-type {\n",
       "        vertical-align: middle;\n",
       "    }\n",
       "\n",
       "    .dataframe tbody tr th {\n",
       "        vertical-align: top;\n",
       "    }\n",
       "\n",
       "    .dataframe thead th {\n",
       "        text-align: right;\n",
       "    }\n",
       "</style>\n",
       "<table border=\"1\" class=\"dataframe\">\n",
       "  <thead>\n",
       "    <tr style=\"text-align: right;\">\n",
       "      <th></th>\n",
       "      <th>Number of Unique Items</th>\n",
       "      <th>Average Price</th>\n",
       "      <th>Number of Purchases</th>\n",
       "      <th>Total Revenue</th>\n",
       "    </tr>\n",
       "  </thead>\n",
       "  <tbody>\n",
       "    <tr>\n",
       "      <th>0</th>\n",
       "      <td>179</td>\n",
       "      <td>3.050987</td>\n",
       "      <td>780</td>\n",
       "      <td>2379.77</td>\n",
       "    </tr>\n",
       "  </tbody>\n",
       "</table>\n",
       "</div>"
      ],
      "text/plain": [
       "   Number of Unique Items  Average Price  Number of Purchases  Total Revenue\n",
       "0                     179       3.050987                  780        2379.77"
      ]
     },
     "execution_count": 45,
     "metadata": {},
     "output_type": "execute_result"
    }
   ],
   "source": [
    "summary_df = pd.DataFrame({\"Number of Unique Items\": [number_of_unique_items],\n",
    "                          \"Average Price\": average_price,\n",
    "                          \"Number of Purchases\": number_of_purchases,\n",
    "                          \"Total Revenue\": total_revenue})\n",
    "summary_df"
   ]
  },
  {
   "cell_type": "code",
   "execution_count": 46,
   "metadata": {},
   "outputs": [
    {
     "data": {
      "text/html": [
       "<div>\n",
       "<style scoped>\n",
       "    .dataframe tbody tr th:only-of-type {\n",
       "        vertical-align: middle;\n",
       "    }\n",
       "\n",
       "    .dataframe tbody tr th {\n",
       "        vertical-align: top;\n",
       "    }\n",
       "\n",
       "    .dataframe thead th {\n",
       "        text-align: right;\n",
       "    }\n",
       "</style>\n",
       "<table border=\"1\" class=\"dataframe\">\n",
       "  <thead>\n",
       "    <tr style=\"text-align: right;\">\n",
       "      <th></th>\n",
       "      <th>Number of Unique Items</th>\n",
       "      <th>Average Price</th>\n",
       "      <th>Number of Purchases</th>\n",
       "      <th>Total Revenue</th>\n",
       "    </tr>\n",
       "  </thead>\n",
       "  <tbody>\n",
       "    <tr>\n",
       "      <th>0</th>\n",
       "      <td>179</td>\n",
       "      <td>$3.05</td>\n",
       "      <td>780</td>\n",
       "      <td>$2,379.77</td>\n",
       "    </tr>\n",
       "  </tbody>\n",
       "</table>\n",
       "</div>"
      ],
      "text/plain": [
       "   Number of Unique Items Average Price  Number of Purchases Total Revenue\n",
       "0                     179         $3.05                  780     $2,379.77"
      ]
     },
     "execution_count": 46,
     "metadata": {},
     "output_type": "execute_result"
    }
   ],
   "source": [
    "summary_df[\"Average Price\"] = summary_df[\"Average Price\"].map(\"${:.2f}\".format)\n",
    "summary_df[\"Total Revenue\"] = summary_df[\"Total Revenue\"].map(\"${:,.2f}\".format)\n",
    "\n",
    "summary_df.head()"
   ]
  },
  {
   "cell_type": "markdown",
   "metadata": {},
   "source": [
    "## Gender Demographics"
   ]
  },
  {
   "cell_type": "markdown",
   "metadata": {},
   "source": [
    "* Percentage and Count of Male Players\n",
    "\n",
    "\n",
    "* Percentage and Count of Female Players\n",
    "\n",
    "\n",
    "* Percentage and Count of Other / Non-Disclosed\n",
    "\n",
    "\n"
   ]
  },
  {
   "cell_type": "code",
   "execution_count": 171,
   "metadata": {},
   "outputs": [
    {
     "data": {
      "text/plain": [
       "Male                     113.194444\n",
       "Female                    19.618056\n",
       "Other / Non-Disclosed      2.604167\n",
       "Name: Gender, dtype: float64"
      ]
     },
     "execution_count": 171,
     "metadata": {},
     "output_type": "execute_result"
    }
   ],
   "source": [
    "gender_total =purchase_data_df[\"Gender\"].value_counts()\n",
    "percents = (gender_total/ total_player) *100\n",
    "percents"
   ]
  },
  {
   "cell_type": "code",
   "execution_count": 172,
   "metadata": {},
   "outputs": [
    {
     "data": {
      "text/html": [
       "<div>\n",
       "<style scoped>\n",
       "    .dataframe tbody tr th:only-of-type {\n",
       "        vertical-align: middle;\n",
       "    }\n",
       "\n",
       "    .dataframe tbody tr th {\n",
       "        vertical-align: top;\n",
       "    }\n",
       "\n",
       "    .dataframe thead th {\n",
       "        text-align: right;\n",
       "    }\n",
       "</style>\n",
       "<table border=\"1\" class=\"dataframe\">\n",
       "  <thead>\n",
       "    <tr style=\"text-align: right;\">\n",
       "      <th></th>\n",
       "      <th>Total Count</th>\n",
       "      <th>Percentage of Players</th>\n",
       "    </tr>\n",
       "  </thead>\n",
       "  <tbody>\n",
       "    <tr>\n",
       "      <th>Male</th>\n",
       "      <td>652</td>\n",
       "      <td>113.19</td>\n",
       "    </tr>\n",
       "    <tr>\n",
       "      <th>Female</th>\n",
       "      <td>113</td>\n",
       "      <td>19.62</td>\n",
       "    </tr>\n",
       "    <tr>\n",
       "      <th>Other / Non-Disclosed</th>\n",
       "      <td>15</td>\n",
       "      <td>2.60</td>\n",
       "    </tr>\n",
       "  </tbody>\n",
       "</table>\n",
       "</div>"
      ],
      "text/plain": [
       "                       Total Count  Percentage of Players\n",
       "Male                           652                 113.19\n",
       "Female                         113                  19.62\n",
       "Other / Non-Disclosed           15                   2.60"
      ]
     },
     "execution_count": 172,
     "metadata": {},
     "output_type": "execute_result"
    }
   ],
   "source": [
    "gender_df = pd.DataFrame({\"Total Count\": gender_total,\n",
    "                         \"Percentage of Players\": percents})\n",
    "gender_df = gender_df.round(2)\n",
    "gender_df"
   ]
  },
  {
   "cell_type": "code",
   "execution_count": null,
   "metadata": {},
   "outputs": [],
   "source": [
    "# incorrect percentage because duplicates in gender. will add percent later"
   ]
  },
  {
   "cell_type": "markdown",
   "metadata": {},
   "source": [
    "\n",
    "## Purchasing Analysis (Gender)"
   ]
  },
  {
   "cell_type": "markdown",
   "metadata": {},
   "source": [
    "* Run basic calculations to obtain purchase count, avg. purchase price, avg. purchase total per person etc. by gender\n",
    "\n",
    "\n",
    "\n",
    "\n",
    "* Create a summary data frame to hold the results\n",
    "\n",
    "\n",
    "* Optional: give the displayed data cleaner formatting\n",
    "\n",
    "\n",
    "* Display the summary data frame"
   ]
  },
  {
   "cell_type": "code",
   "execution_count": 121,
   "metadata": {},
   "outputs": [
    {
     "name": "stdout",
     "output_type": "stream",
     "text": [
      "<pandas.core.groupby.generic.DataFrameGroupBy object at 0x000001C8A631A7F0>\n"
     ]
    }
   ],
   "source": [
    "gender_grouped = purchase_data_df.groupby([\"Gender\"])\n",
    "print(gender_grouped)"
   ]
  },
  {
   "cell_type": "code",
   "execution_count": 122,
   "metadata": {},
   "outputs": [
    {
     "data": {
      "text/plain": [
       "Gender\n",
       "Female                   113\n",
       "Male                     652\n",
       "Other / Non-Disclosed     15\n",
       "Name: Purchase ID, dtype: int64"
      ]
     },
     "execution_count": 122,
     "metadata": {},
     "output_type": "execute_result"
    }
   ],
   "source": [
    "count = gender_grouped[\"Purchase ID\"].count()\n",
    "count"
   ]
  },
  {
   "cell_type": "code",
   "execution_count": 123,
   "metadata": {},
   "outputs": [
    {
     "data": {
      "text/plain": [
       "Gender\n",
       "Female                    361.94\n",
       "Male                     1967.64\n",
       "Other / Non-Disclosed      50.19\n",
       "Name: Price, dtype: float64"
      ]
     },
     "execution_count": 123,
     "metadata": {},
     "output_type": "execute_result"
    }
   ],
   "source": [
    "total_purchase_value = gender_grouped[\"Price\"].sum()\n",
    "total_purchase_value"
   ]
  },
  {
   "cell_type": "code",
   "execution_count": 124,
   "metadata": {},
   "outputs": [
    {
     "data": {
      "text/plain": [
       "Gender\n",
       "Female                   3.20\n",
       "Male                     3.02\n",
       "Other / Non-Disclosed    3.35\n",
       "Name: Price, dtype: float64"
      ]
     },
     "execution_count": 124,
     "metadata": {},
     "output_type": "execute_result"
    }
   ],
   "source": [
    "average_purchase_price = gender_grouped[\"Price\"].mean()\n",
    "average_purchase_price = average_purchase_price.round(2)\n",
    "average_purchase_price"
   ]
  },
  {
   "cell_type": "code",
   "execution_count": 130,
   "metadata": {},
   "outputs": [
    {
     "data": {
      "text/plain": [
       "Gender\n",
       "Female                   3.20\n",
       "Male                     3.02\n",
       "Other / Non-Disclosed    3.35\n",
       "dtype: float64"
      ]
     },
     "execution_count": 130,
     "metadata": {},
     "output_type": "execute_result"
    }
   ],
   "source": [
    "avg_per_person = total_purchase_value / count\n",
    "avg_per_person = avg_per_person.round(2)\n",
    "avg_per_person"
   ]
  },
  {
   "cell_type": "code",
   "execution_count": 131,
   "metadata": {},
   "outputs": [
    {
     "data": {
      "text/html": [
       "<div>\n",
       "<style scoped>\n",
       "    .dataframe tbody tr th:only-of-type {\n",
       "        vertical-align: middle;\n",
       "    }\n",
       "\n",
       "    .dataframe tbody tr th {\n",
       "        vertical-align: top;\n",
       "    }\n",
       "\n",
       "    .dataframe thead th {\n",
       "        text-align: right;\n",
       "    }\n",
       "</style>\n",
       "<table border=\"1\" class=\"dataframe\">\n",
       "  <thead>\n",
       "    <tr style=\"text-align: right;\">\n",
       "      <th></th>\n",
       "      <th>Purchase Count</th>\n",
       "      <th>Average Purchase Price</th>\n",
       "      <th>Total Purchase Value</th>\n",
       "      <th>Avg Total Purchase per Person</th>\n",
       "    </tr>\n",
       "    <tr>\n",
       "      <th>Gender</th>\n",
       "      <th></th>\n",
       "      <th></th>\n",
       "      <th></th>\n",
       "      <th></th>\n",
       "    </tr>\n",
       "  </thead>\n",
       "  <tbody>\n",
       "    <tr>\n",
       "      <th>Female</th>\n",
       "      <td>361.94</td>\n",
       "      <td>3.20</td>\n",
       "      <td>361.94</td>\n",
       "      <td>3.20</td>\n",
       "    </tr>\n",
       "    <tr>\n",
       "      <th>Male</th>\n",
       "      <td>1967.64</td>\n",
       "      <td>3.02</td>\n",
       "      <td>1967.64</td>\n",
       "      <td>3.02</td>\n",
       "    </tr>\n",
       "    <tr>\n",
       "      <th>Other / Non-Disclosed</th>\n",
       "      <td>50.19</td>\n",
       "      <td>3.35</td>\n",
       "      <td>50.19</td>\n",
       "      <td>3.35</td>\n",
       "    </tr>\n",
       "  </tbody>\n",
       "</table>\n",
       "</div>"
      ],
      "text/plain": [
       "                       Purchase Count  Average Purchase Price  \\\n",
       "Gender                                                          \n",
       "Female                         361.94                    3.20   \n",
       "Male                          1967.64                    3.02   \n",
       "Other / Non-Disclosed           50.19                    3.35   \n",
       "\n",
       "                       Total Purchase Value  Avg Total Purchase per Person  \n",
       "Gender                                                                      \n",
       "Female                               361.94                           3.20  \n",
       "Male                                1967.64                           3.02  \n",
       "Other / Non-Disclosed                 50.19                           3.35  "
      ]
     },
     "execution_count": 131,
     "metadata": {},
     "output_type": "execute_result"
    }
   ],
   "source": [
    "purchase_analysis_df = pd.DataFrame({\"Purchase Count\": total_purchase_value,\n",
    "                                    \"Average Purchase Price\": average_purchase_price,\n",
    "                                    \"Total Purchase Value\": total_purchase_value,\n",
    "                                    \"Avg Total Purchase per Person\": avg_per_person})\n",
    "\n",
    "\n",
    "purchase_analysis_df"
   ]
  },
  {
   "cell_type": "code",
   "execution_count": 136,
   "metadata": {},
   "outputs": [
    {
     "data": {
      "text/html": [
       "<div>\n",
       "<style scoped>\n",
       "    .dataframe tbody tr th:only-of-type {\n",
       "        vertical-align: middle;\n",
       "    }\n",
       "\n",
       "    .dataframe tbody tr th {\n",
       "        vertical-align: top;\n",
       "    }\n",
       "\n",
       "    .dataframe thead th {\n",
       "        text-align: right;\n",
       "    }\n",
       "</style>\n",
       "<table border=\"1\" class=\"dataframe\">\n",
       "  <thead>\n",
       "    <tr style=\"text-align: right;\">\n",
       "      <th></th>\n",
       "      <th>Purchase Count</th>\n",
       "      <th>Average Purchase Price</th>\n",
       "      <th>Total Purchase Value</th>\n",
       "      <th>Avg Total Purchase per Person</th>\n",
       "    </tr>\n",
       "    <tr>\n",
       "      <th>Gender</th>\n",
       "      <th></th>\n",
       "      <th></th>\n",
       "      <th></th>\n",
       "      <th></th>\n",
       "    </tr>\n",
       "  </thead>\n",
       "  <tbody>\n",
       "    <tr>\n",
       "      <th>Female</th>\n",
       "      <td>361.94</td>\n",
       "      <td>$3.20</td>\n",
       "      <td>$361.94</td>\n",
       "      <td>$3.20</td>\n",
       "    </tr>\n",
       "    <tr>\n",
       "      <th>Male</th>\n",
       "      <td>1967.64</td>\n",
       "      <td>$3.02</td>\n",
       "      <td>$1967.64</td>\n",
       "      <td>$3.02</td>\n",
       "    </tr>\n",
       "    <tr>\n",
       "      <th>Other / Non-Disclosed</th>\n",
       "      <td>50.19</td>\n",
       "      <td>$3.35</td>\n",
       "      <td>$50.19</td>\n",
       "      <td>$3.35</td>\n",
       "    </tr>\n",
       "  </tbody>\n",
       "</table>\n",
       "</div>"
      ],
      "text/plain": [
       "                       Purchase Count Average Purchase Price  \\\n",
       "Gender                                                         \n",
       "Female                         361.94                  $3.20   \n",
       "Male                          1967.64                  $3.02   \n",
       "Other / Non-Disclosed           50.19                  $3.35   \n",
       "\n",
       "                      Total Purchase Value Avg Total Purchase per Person  \n",
       "Gender                                                                    \n",
       "Female                             $361.94                         $3.20  \n",
       "Male                              $1967.64                         $3.02  \n",
       "Other / Non-Disclosed               $50.19                         $3.35  "
      ]
     },
     "execution_count": 136,
     "metadata": {},
     "output_type": "execute_result"
    }
   ],
   "source": [
    "purchase_analysis_df[\"Total Purchase Value\"] = purchase_analysis_df[\"Total Purchase Value\"].map(\"${:.2f}\".format)\n",
    "purchase_analysis_df[\"Average Purchase Price\"] = purchase_analysis_df[\"Average Purchase Price\"].map(\"${:.2f}\".format)\n",
    "purchase_analysis_df[\"Avg Total Purchase per Person\"] = purchase_analysis_df[\"Avg Total Purchase per Person\"].map(\"${:.2f}\".format)\n",
    "purchase_analysis_df"
   ]
  },
  {
   "cell_type": "markdown",
   "metadata": {},
   "source": [
    "## Age Demographics"
   ]
  },
  {
   "cell_type": "markdown",
   "metadata": {},
   "source": [
    "* Establish bins for ages\n",
    "\n",
    "\n",
    "* Categorize the existing players using the age bins. Hint: use pd.cut()\n",
    "\n",
    "\n",
    "* Calculate the numbers and percentages by age group\n",
    "\n",
    "\n",
    "* Create a summary data frame to hold the results\n",
    "\n",
    "\n",
    "* Optional: round the percentage column to two decimal points\n",
    "\n",
    "\n",
    "* Display Age Demographics Table\n"
   ]
  },
  {
   "cell_type": "code",
   "execution_count": 142,
   "metadata": {
    "scrolled": true
   },
   "outputs": [
    {
     "data": {
      "text/html": [
       "<div>\n",
       "<style scoped>\n",
       "    .dataframe tbody tr th:only-of-type {\n",
       "        vertical-align: middle;\n",
       "    }\n",
       "\n",
       "    .dataframe tbody tr th {\n",
       "        vertical-align: top;\n",
       "    }\n",
       "\n",
       "    .dataframe thead th {\n",
       "        text-align: right;\n",
       "    }\n",
       "</style>\n",
       "<table border=\"1\" class=\"dataframe\">\n",
       "  <thead>\n",
       "    <tr style=\"text-align: right;\">\n",
       "      <th></th>\n",
       "      <th>Purchase ID</th>\n",
       "      <th>SN</th>\n",
       "      <th>Age</th>\n",
       "      <th>Gender</th>\n",
       "      <th>Item ID</th>\n",
       "      <th>Item Name</th>\n",
       "      <th>Price</th>\n",
       "      <th>Age Range</th>\n",
       "    </tr>\n",
       "  </thead>\n",
       "  <tbody>\n",
       "    <tr>\n",
       "      <th>0</th>\n",
       "      <td>0</td>\n",
       "      <td>Lisim78</td>\n",
       "      <td>20</td>\n",
       "      <td>Male</td>\n",
       "      <td>108</td>\n",
       "      <td>Extraction, Quickblade Of Trembling Hands</td>\n",
       "      <td>3.53</td>\n",
       "      <td>20-24</td>\n",
       "    </tr>\n",
       "    <tr>\n",
       "      <th>1</th>\n",
       "      <td>1</td>\n",
       "      <td>Lisovynya38</td>\n",
       "      <td>40</td>\n",
       "      <td>Male</td>\n",
       "      <td>143</td>\n",
       "      <td>Frenzied Scimitar</td>\n",
       "      <td>1.56</td>\n",
       "      <td>40+</td>\n",
       "    </tr>\n",
       "    <tr>\n",
       "      <th>2</th>\n",
       "      <td>2</td>\n",
       "      <td>Ithergue48</td>\n",
       "      <td>24</td>\n",
       "      <td>Male</td>\n",
       "      <td>92</td>\n",
       "      <td>Final Critic</td>\n",
       "      <td>4.88</td>\n",
       "      <td>20-24</td>\n",
       "    </tr>\n",
       "    <tr>\n",
       "      <th>3</th>\n",
       "      <td>3</td>\n",
       "      <td>Chamassasya86</td>\n",
       "      <td>24</td>\n",
       "      <td>Male</td>\n",
       "      <td>100</td>\n",
       "      <td>Blindscythe</td>\n",
       "      <td>3.27</td>\n",
       "      <td>20-24</td>\n",
       "    </tr>\n",
       "    <tr>\n",
       "      <th>4</th>\n",
       "      <td>4</td>\n",
       "      <td>Iskosia90</td>\n",
       "      <td>23</td>\n",
       "      <td>Male</td>\n",
       "      <td>131</td>\n",
       "      <td>Fury</td>\n",
       "      <td>1.44</td>\n",
       "      <td>20-24</td>\n",
       "    </tr>\n",
       "    <tr>\n",
       "      <th>...</th>\n",
       "      <td>...</td>\n",
       "      <td>...</td>\n",
       "      <td>...</td>\n",
       "      <td>...</td>\n",
       "      <td>...</td>\n",
       "      <td>...</td>\n",
       "      <td>...</td>\n",
       "      <td>...</td>\n",
       "    </tr>\n",
       "    <tr>\n",
       "      <th>775</th>\n",
       "      <td>775</td>\n",
       "      <td>Aethedru70</td>\n",
       "      <td>21</td>\n",
       "      <td>Female</td>\n",
       "      <td>60</td>\n",
       "      <td>Wolf</td>\n",
       "      <td>3.54</td>\n",
       "      <td>20-24</td>\n",
       "    </tr>\n",
       "    <tr>\n",
       "      <th>776</th>\n",
       "      <td>776</td>\n",
       "      <td>Iral74</td>\n",
       "      <td>21</td>\n",
       "      <td>Male</td>\n",
       "      <td>164</td>\n",
       "      <td>Exiled Doomblade</td>\n",
       "      <td>1.63</td>\n",
       "      <td>20-24</td>\n",
       "    </tr>\n",
       "    <tr>\n",
       "      <th>777</th>\n",
       "      <td>777</td>\n",
       "      <td>Yathecal72</td>\n",
       "      <td>20</td>\n",
       "      <td>Male</td>\n",
       "      <td>67</td>\n",
       "      <td>Celeste, Incarnation of the Corrupted</td>\n",
       "      <td>3.46</td>\n",
       "      <td>20-24</td>\n",
       "    </tr>\n",
       "    <tr>\n",
       "      <th>778</th>\n",
       "      <td>778</td>\n",
       "      <td>Sisur91</td>\n",
       "      <td>7</td>\n",
       "      <td>Male</td>\n",
       "      <td>92</td>\n",
       "      <td>Final Critic</td>\n",
       "      <td>4.19</td>\n",
       "      <td>&lt;10</td>\n",
       "    </tr>\n",
       "    <tr>\n",
       "      <th>779</th>\n",
       "      <td>779</td>\n",
       "      <td>Ennrian78</td>\n",
       "      <td>24</td>\n",
       "      <td>Male</td>\n",
       "      <td>50</td>\n",
       "      <td>Dawn</td>\n",
       "      <td>4.60</td>\n",
       "      <td>20-24</td>\n",
       "    </tr>\n",
       "  </tbody>\n",
       "</table>\n",
       "<p>780 rows × 8 columns</p>\n",
       "</div>"
      ],
      "text/plain": [
       "     Purchase ID             SN  Age  Gender  Item ID  \\\n",
       "0              0        Lisim78   20    Male      108   \n",
       "1              1    Lisovynya38   40    Male      143   \n",
       "2              2     Ithergue48   24    Male       92   \n",
       "3              3  Chamassasya86   24    Male      100   \n",
       "4              4      Iskosia90   23    Male      131   \n",
       "..           ...            ...  ...     ...      ...   \n",
       "775          775     Aethedru70   21  Female       60   \n",
       "776          776         Iral74   21    Male      164   \n",
       "777          777     Yathecal72   20    Male       67   \n",
       "778          778        Sisur91    7    Male       92   \n",
       "779          779      Ennrian78   24    Male       50   \n",
       "\n",
       "                                     Item Name  Price Age Range  \n",
       "0    Extraction, Quickblade Of Trembling Hands   3.53     20-24  \n",
       "1                            Frenzied Scimitar   1.56       40+  \n",
       "2                                 Final Critic   4.88     20-24  \n",
       "3                                  Blindscythe   3.27     20-24  \n",
       "4                                         Fury   1.44     20-24  \n",
       "..                                         ...    ...       ...  \n",
       "775                                       Wolf   3.54     20-24  \n",
       "776                           Exiled Doomblade   1.63     20-24  \n",
       "777      Celeste, Incarnation of the Corrupted   3.46     20-24  \n",
       "778                               Final Critic   4.19       <10  \n",
       "779                                       Dawn   4.60     20-24  \n",
       "\n",
       "[780 rows x 8 columns]"
      ]
     },
     "execution_count": 142,
     "metadata": {},
     "output_type": "execute_result"
    }
   ],
   "source": [
    "# establish bins for ages\n",
    "bins = [0 , 9.90 , 14.90, 19.90, 24.90, 29.90, 34.90, 39.90, 99999999]\n",
    "group_labels = [\"<10\", \"10-14\", \"15-19\", \"20-24\", \"25-29\", \"30-34\", \"35-39\", \"40+\"]\n",
    "\n",
    "purchase_data_df[\"Age Range\"] = pd.cut(purchase_data_df[\"Age\"], bins, labels = group_labels)\n",
    "purchase_data_df"
   ]
  },
  {
   "cell_type": "code",
   "execution_count": 180,
   "metadata": {},
   "outputs": [
    {
     "data": {
      "text/plain": [
       "Age Range\n",
       "<10       23\n",
       "10-14     28\n",
       "15-19    136\n",
       "20-24    365\n",
       "25-29    101\n",
       "30-34     73\n",
       "35-39     41\n",
       "40+       13\n",
       "Name: SN, dtype: int64"
      ]
     },
     "execution_count": 180,
     "metadata": {},
     "output_type": "execute_result"
    }
   ],
   "source": [
    "grouped_age = purchase_data_df.groupby(\"Age Range\")\n",
    "total_count_age = grouped_age[\"SN\"].count()\n",
    "total_count_age"
   ]
  },
  {
   "cell_type": "code",
   "execution_count": 181,
   "metadata": {},
   "outputs": [
    {
     "data": {
      "text/plain": [
       "Age Range\n",
       "<10       3.993056\n",
       "10-14     4.861111\n",
       "15-19    23.611111\n",
       "20-24    63.368056\n",
       "25-29    17.534722\n",
       "30-34    12.673611\n",
       "35-39     7.118056\n",
       "40+       2.256944\n",
       "Name: SN, dtype: float64"
      ]
     },
     "execution_count": 181,
     "metadata": {},
     "output_type": "execute_result"
    }
   ],
   "source": [
    "percent_player =(total_count_age/total_player)*100\n",
    "percent_player"
   ]
  },
  {
   "cell_type": "code",
   "execution_count": 188,
   "metadata": {},
   "outputs": [
    {
     "data": {
      "text/html": [
       "<div>\n",
       "<style scoped>\n",
       "    .dataframe tbody tr th:only-of-type {\n",
       "        vertical-align: middle;\n",
       "    }\n",
       "\n",
       "    .dataframe tbody tr th {\n",
       "        vertical-align: top;\n",
       "    }\n",
       "\n",
       "    .dataframe thead th {\n",
       "        text-align: right;\n",
       "    }\n",
       "</style>\n",
       "<table border=\"1\" class=\"dataframe\">\n",
       "  <thead>\n",
       "    <tr style=\"text-align: right;\">\n",
       "      <th></th>\n",
       "      <th>Total Count</th>\n",
       "      <th>Percentage of Players</th>\n",
       "    </tr>\n",
       "  </thead>\n",
       "  <tbody>\n",
       "    <tr>\n",
       "      <th>&lt;10</th>\n",
       "      <td>23</td>\n",
       "      <td>3.99%</td>\n",
       "    </tr>\n",
       "    <tr>\n",
       "      <th>10-14</th>\n",
       "      <td>28</td>\n",
       "      <td>4.86%</td>\n",
       "    </tr>\n",
       "    <tr>\n",
       "      <th>15-19</th>\n",
       "      <td>136</td>\n",
       "      <td>23.61%</td>\n",
       "    </tr>\n",
       "    <tr>\n",
       "      <th>20-24</th>\n",
       "      <td>365</td>\n",
       "      <td>63.37%</td>\n",
       "    </tr>\n",
       "    <tr>\n",
       "      <th>25-29</th>\n",
       "      <td>101</td>\n",
       "      <td>17.53%</td>\n",
       "    </tr>\n",
       "    <tr>\n",
       "      <th>30-34</th>\n",
       "      <td>73</td>\n",
       "      <td>12.67%</td>\n",
       "    </tr>\n",
       "    <tr>\n",
       "      <th>35-39</th>\n",
       "      <td>41</td>\n",
       "      <td>7.12%</td>\n",
       "    </tr>\n",
       "    <tr>\n",
       "      <th>40+</th>\n",
       "      <td>13</td>\n",
       "      <td>2.26%</td>\n",
       "    </tr>\n",
       "  </tbody>\n",
       "</table>\n",
       "</div>"
      ],
      "text/plain": [
       "       Total Count Percentage of Players\n",
       "<10             23                 3.99%\n",
       "10-14           28                 4.86%\n",
       "15-19          136                23.61%\n",
       "20-24          365                63.37%\n",
       "25-29          101                17.53%\n",
       "30-34           73                12.67%\n",
       "35-39           41                 7.12%\n",
       "40+             13                 2.26%"
      ]
     },
     "execution_count": 188,
     "metadata": {},
     "output_type": "execute_result"
    }
   ],
   "source": [
    "age_demographics_df = pd.DataFrame({\"Total Count\": total_count_age,\n",
    "                                   \"Percentage of Players\": percent_player})\n",
    "age_demographics_df = age_demographics_df.round(2)\n",
    "age_demographics_df[\"Percentage of Players\"] = age_demographics_df[\"Percentage of Players\"].map(\"{:.2f}%\".format)\n",
    "age_demographics_df.index.name = None\n",
    "age_demographics_df\n",
    "                               "
   ]
  },
  {
   "cell_type": "code",
   "execution_count": null,
   "metadata": {},
   "outputs": [],
   "source": [
    "# incorrect because of bad totals"
   ]
  },
  {
   "cell_type": "markdown",
   "metadata": {},
   "source": [
    "## Purchasing Analysis (Age)"
   ]
  },
  {
   "cell_type": "markdown",
   "metadata": {},
   "source": [
    "* Bin the purchase_data data frame by age\n",
    "\n",
    "\n",
    "* Run basic calculations to obtain purchase count, avg. purchase price, avg. purchase total per person etc. in the table below\n",
    "\n",
    "\n",
    "* Create a summary data frame to hold the results\n",
    "\n",
    "\n",
    "* Optional: give the displayed data cleaner formatting\n",
    "\n",
    "\n",
    "* Display the summary data frame"
   ]
  },
  {
   "cell_type": "code",
   "execution_count": 211,
   "metadata": {},
   "outputs": [
    {
     "data": {
      "text/plain": [
       "Index(['Purchase ID', 'SN', 'Age', 'Gender', 'Item ID', 'Item Name', 'Price',\n",
       "       'Age Range'],\n",
       "      dtype='object')"
      ]
     },
     "execution_count": 211,
     "metadata": {},
     "output_type": "execute_result"
    }
   ],
   "source": [
    "purchase_data_df.columns"
   ]
  },
  {
   "cell_type": "code",
   "execution_count": 213,
   "metadata": {},
   "outputs": [
    {
     "data": {
      "text/plain": [
       "Age Range\n",
       "<10       23\n",
       "10-14     28\n",
       "15-19    136\n",
       "20-24    365\n",
       "25-29    101\n",
       "30-34     73\n",
       "35-39     41\n",
       "40+       13\n",
       "Name: Purchase ID, dtype: int64"
      ]
     },
     "execution_count": 213,
     "metadata": {},
     "output_type": "execute_result"
    }
   ],
   "source": [
    "purchase_count = grouped_age[\"Purchase ID\"].count()\n",
    "purchase_count"
   ]
  },
  {
   "cell_type": "code",
   "execution_count": 214,
   "metadata": {},
   "outputs": [
    {
     "data": {
      "text/plain": [
       "Age Range\n",
       "<10      3.35\n",
       "10-14    2.96\n",
       "15-19    3.04\n",
       "20-24    3.05\n",
       "25-29    2.90\n",
       "30-34    2.93\n",
       "35-39    3.60\n",
       "40+      2.94\n",
       "Name: Price, dtype: float64"
      ]
     },
     "execution_count": 214,
     "metadata": {},
     "output_type": "execute_result"
    }
   ],
   "source": [
    "avg_purchase_price = grouped_age[\"Price\"].mean()\n",
    "avg_purchase_price_round = avg_purchase_price.round(2)\n",
    "avg_purchase_price_round"
   ]
  },
  {
   "cell_type": "code",
   "execution_count": 215,
   "metadata": {},
   "outputs": [
    {
     "data": {
      "text/plain": [
       "Age Range\n",
       "<10        77.13\n",
       "10-14      82.78\n",
       "15-19     412.89\n",
       "20-24    1114.06\n",
       "25-29     293.00\n",
       "30-34     214.00\n",
       "35-39     147.67\n",
       "40+        38.24\n",
       "Name: Price, dtype: float64"
      ]
     },
     "execution_count": 215,
     "metadata": {},
     "output_type": "execute_result"
    }
   ],
   "source": [
    "total_purchase_price = grouped_age[\"Price\"].sum()\n",
    "total_purchase_price"
   ]
  },
  {
   "cell_type": "code",
   "execution_count": 219,
   "metadata": {},
   "outputs": [
    {
     "data": {
      "text/plain": [
       "Age Range\n",
       "<10      3.35\n",
       "10-14    2.96\n",
       "15-19    3.04\n",
       "20-24    3.05\n",
       "25-29    2.90\n",
       "30-34    2.93\n",
       "35-39    3.60\n",
       "40+      2.94\n",
       "dtype: float64"
      ]
     },
     "execution_count": 219,
     "metadata": {},
     "output_type": "execute_result"
    }
   ],
   "source": [
    "avg_total_purchase_per_person = total_purchase_price/ total_count_age\n",
    "avg_total_purchase_per_person_round = avg_total_purchase_per_person.round(2)\n",
    "avg_total_purchase_per_person_round"
   ]
  },
  {
   "cell_type": "code",
   "execution_count": 226,
   "metadata": {},
   "outputs": [
    {
     "data": {
      "text/html": [
       "<div>\n",
       "<style scoped>\n",
       "    .dataframe tbody tr th:only-of-type {\n",
       "        vertical-align: middle;\n",
       "    }\n",
       "\n",
       "    .dataframe tbody tr th {\n",
       "        vertical-align: top;\n",
       "    }\n",
       "\n",
       "    .dataframe thead th {\n",
       "        text-align: right;\n",
       "    }\n",
       "</style>\n",
       "<table border=\"1\" class=\"dataframe\">\n",
       "  <thead>\n",
       "    <tr style=\"text-align: right;\">\n",
       "      <th></th>\n",
       "      <th>Purchase Count</th>\n",
       "      <th>Average Purchase Price</th>\n",
       "      <th>Total Purchase Value</th>\n",
       "      <th>Avg Total Purchase per Person</th>\n",
       "    </tr>\n",
       "    <tr>\n",
       "      <th>Age Range</th>\n",
       "      <th></th>\n",
       "      <th></th>\n",
       "      <th></th>\n",
       "      <th></th>\n",
       "    </tr>\n",
       "  </thead>\n",
       "  <tbody>\n",
       "    <tr>\n",
       "      <th>&lt;10</th>\n",
       "      <td>23</td>\n",
       "      <td>$3.35</td>\n",
       "      <td>$77.13</td>\n",
       "      <td>$3.35</td>\n",
       "    </tr>\n",
       "    <tr>\n",
       "      <th>10-14</th>\n",
       "      <td>28</td>\n",
       "      <td>$2.96</td>\n",
       "      <td>$82.78</td>\n",
       "      <td>$2.96</td>\n",
       "    </tr>\n",
       "    <tr>\n",
       "      <th>15-19</th>\n",
       "      <td>136</td>\n",
       "      <td>$3.04</td>\n",
       "      <td>$412.89</td>\n",
       "      <td>$3.04</td>\n",
       "    </tr>\n",
       "    <tr>\n",
       "      <th>20-24</th>\n",
       "      <td>365</td>\n",
       "      <td>$3.05</td>\n",
       "      <td>$1114.06</td>\n",
       "      <td>$3.05</td>\n",
       "    </tr>\n",
       "    <tr>\n",
       "      <th>25-29</th>\n",
       "      <td>101</td>\n",
       "      <td>$2.90</td>\n",
       "      <td>$293.00</td>\n",
       "      <td>$2.90</td>\n",
       "    </tr>\n",
       "    <tr>\n",
       "      <th>30-34</th>\n",
       "      <td>73</td>\n",
       "      <td>$2.93</td>\n",
       "      <td>$214.00</td>\n",
       "      <td>$2.93</td>\n",
       "    </tr>\n",
       "    <tr>\n",
       "      <th>35-39</th>\n",
       "      <td>41</td>\n",
       "      <td>$3.60</td>\n",
       "      <td>$147.67</td>\n",
       "      <td>$3.60</td>\n",
       "    </tr>\n",
       "    <tr>\n",
       "      <th>40+</th>\n",
       "      <td>13</td>\n",
       "      <td>$2.94</td>\n",
       "      <td>$38.24</td>\n",
       "      <td>$2.94</td>\n",
       "    </tr>\n",
       "  </tbody>\n",
       "</table>\n",
       "</div>"
      ],
      "text/plain": [
       "           Purchase Count Average Purchase Price Total Purchase Value  \\\n",
       "Age Range                                                               \n",
       "<10                    23                  $3.35               $77.13   \n",
       "10-14                  28                  $2.96               $82.78   \n",
       "15-19                 136                  $3.04              $412.89   \n",
       "20-24                 365                  $3.05             $1114.06   \n",
       "25-29                 101                  $2.90              $293.00   \n",
       "30-34                  73                  $2.93              $214.00   \n",
       "35-39                  41                  $3.60              $147.67   \n",
       "40+                    13                  $2.94               $38.24   \n",
       "\n",
       "          Avg Total Purchase per Person  \n",
       "Age Range                                \n",
       "<10                               $3.35  \n",
       "10-14                             $2.96  \n",
       "15-19                             $3.04  \n",
       "20-24                             $3.05  \n",
       "25-29                             $2.90  \n",
       "30-34                             $2.93  \n",
       "35-39                             $3.60  \n",
       "40+                               $2.94  "
      ]
     },
     "execution_count": 226,
     "metadata": {},
     "output_type": "execute_result"
    }
   ],
   "source": [
    "purchase_age_df = pd.DataFrame({\"Purchase Count\":purchase_count,\n",
    "                                        \"Average Purchase Price\":avg_purchase_price_round,\n",
    "                                        \"Total Purchase Value\":total_purchase_price,\n",
    "                                        \"Avg Total Purchase per Person\":avg_total_purchase_per_person_round})\n",
    "\n",
    "purchase_age_df[\"Average Purchase Price\"] = purchase_age_df[\"Average Purchase Price\"].map(\"${:.2f}\".format)\n",
    "purchase_age_df[\"Total Purchase Value\"] = purchase_age_df[\"Total Purchase Value\"].map(\"${:.2f}\".format)\n",
    "purchase_age_df[\"Avg Total Purchase per Person\"] = purchase_age_df[\"Avg Total Purchase per Person\"].map(\"${:.2f}\".format)\n",
    "purchase_age_df"
   ]
  },
  {
   "cell_type": "markdown",
   "metadata": {},
   "source": [
    "## Top Spenders"
   ]
  },
  {
   "cell_type": "markdown",
   "metadata": {},
   "source": [
    "* Run basic calculations to obtain the results in the table below\n",
    "\n",
    "\n",
    "* Create a summary data frame to hold the results\n",
    "\n",
    "\n",
    "* Sort the total purchase value column in descending order\n",
    "\n",
    "\n",
    "* Optional: give the displayed data cleaner formatting\n",
    "\n",
    "\n",
    "* Display a preview of the summary data frame\n",
    "\n"
   ]
  },
  {
   "cell_type": "code",
   "execution_count": 240,
   "metadata": {},
   "outputs": [
    {
     "data": {
      "text/plain": [
       "<pandas.core.groupby.generic.DataFrameGroupBy object at 0x000001C8A63A3520>"
      ]
     },
     "execution_count": 240,
     "metadata": {},
     "output_type": "execute_result"
    }
   ],
   "source": [
    "top_spender = purchase_data_df.groupby(\"SN\")\n",
    "top_spender"
   ]
  },
  {
   "cell_type": "code",
   "execution_count": 241,
   "metadata": {},
   "outputs": [
    {
     "data": {
      "text/plain": [
       "SN\n",
       "Adairialis76     1\n",
       "Adastirin33      1\n",
       "Aeda94           1\n",
       "Aela59           1\n",
       "Aelaria33        1\n",
       "                ..\n",
       "Yathecal82       3\n",
       "Yathedeu43       2\n",
       "Yoishirrala98    1\n",
       "Zhisrisu83       2\n",
       "Zontibe81        3\n",
       "Name: Purchase ID, Length: 576, dtype: int64"
      ]
     },
     "execution_count": 241,
     "metadata": {},
     "output_type": "execute_result"
    }
   ],
   "source": [
    "purchase_id = top_spender[\"Purchase ID\"].count()\n",
    "purchase_id"
   ]
  },
  {
   "cell_type": "code",
   "execution_count": 242,
   "metadata": {},
   "outputs": [
    {
     "data": {
      "text/plain": [
       "SN\n",
       "Adairialis76     2.280000\n",
       "Adastirin33      4.480000\n",
       "Aeda94           4.910000\n",
       "Aela59           4.320000\n",
       "Aelaria33        1.790000\n",
       "                   ...   \n",
       "Yathecal82       2.073333\n",
       "Yathedeu43       3.010000\n",
       "Yoishirrala98    4.580000\n",
       "Zhisrisu83       3.945000\n",
       "Zontibe81        2.676667\n",
       "Name: Price, Length: 576, dtype: float64"
      ]
     },
     "execution_count": 242,
     "metadata": {},
     "output_type": "execute_result"
    }
   ],
   "source": [
    "avg_purchase_price = top_spender[\"Price\"].mean()\n",
    "avg_purchase_price"
   ]
  },
  {
   "cell_type": "code",
   "execution_count": 243,
   "metadata": {},
   "outputs": [
    {
     "data": {
      "text/plain": [
       "SN\n",
       "Adairialis76     2.28\n",
       "Adastirin33      4.48\n",
       "Aeda94           4.91\n",
       "Aela59           4.32\n",
       "Aelaria33        1.79\n",
       "                 ... \n",
       "Yathecal82       6.22\n",
       "Yathedeu43       6.02\n",
       "Yoishirrala98    4.58\n",
       "Zhisrisu83       7.89\n",
       "Zontibe81        8.03\n",
       "Name: Price, Length: 576, dtype: float64"
      ]
     },
     "execution_count": 243,
     "metadata": {},
     "output_type": "execute_result"
    }
   ],
   "source": [
    "total_purchase_price = top_spender[\"Price\"].sum()\n",
    "total_purchase_price"
   ]
  },
  {
   "cell_type": "code",
   "execution_count": 246,
   "metadata": {},
   "outputs": [
    {
     "data": {
      "text/html": [
       "<div>\n",
       "<style scoped>\n",
       "    .dataframe tbody tr th:only-of-type {\n",
       "        vertical-align: middle;\n",
       "    }\n",
       "\n",
       "    .dataframe tbody tr th {\n",
       "        vertical-align: top;\n",
       "    }\n",
       "\n",
       "    .dataframe thead th {\n",
       "        text-align: right;\n",
       "    }\n",
       "</style>\n",
       "<table border=\"1\" class=\"dataframe\">\n",
       "  <thead>\n",
       "    <tr style=\"text-align: right;\">\n",
       "      <th></th>\n",
       "      <th>Purchase Count</th>\n",
       "      <th>Average Purchase Price</th>\n",
       "      <th>Total Purchase Price</th>\n",
       "    </tr>\n",
       "    <tr>\n",
       "      <th>SN</th>\n",
       "      <th></th>\n",
       "      <th></th>\n",
       "      <th></th>\n",
       "    </tr>\n",
       "  </thead>\n",
       "  <tbody>\n",
       "    <tr>\n",
       "      <th>Adairialis76</th>\n",
       "      <td>1</td>\n",
       "      <td>$2.28</td>\n",
       "      <td>$2.28</td>\n",
       "    </tr>\n",
       "    <tr>\n",
       "      <th>Adastirin33</th>\n",
       "      <td>1</td>\n",
       "      <td>$4.48</td>\n",
       "      <td>$4.48</td>\n",
       "    </tr>\n",
       "    <tr>\n",
       "      <th>Aeda94</th>\n",
       "      <td>1</td>\n",
       "      <td>$4.91</td>\n",
       "      <td>$4.91</td>\n",
       "    </tr>\n",
       "    <tr>\n",
       "      <th>Aela59</th>\n",
       "      <td>1</td>\n",
       "      <td>$4.32</td>\n",
       "      <td>$4.32</td>\n",
       "    </tr>\n",
       "    <tr>\n",
       "      <th>Aelaria33</th>\n",
       "      <td>1</td>\n",
       "      <td>$1.79</td>\n",
       "      <td>$1.79</td>\n",
       "    </tr>\n",
       "    <tr>\n",
       "      <th>...</th>\n",
       "      <td>...</td>\n",
       "      <td>...</td>\n",
       "      <td>...</td>\n",
       "    </tr>\n",
       "    <tr>\n",
       "      <th>Yathecal82</th>\n",
       "      <td>3</td>\n",
       "      <td>$2.07</td>\n",
       "      <td>$6.22</td>\n",
       "    </tr>\n",
       "    <tr>\n",
       "      <th>Yathedeu43</th>\n",
       "      <td>2</td>\n",
       "      <td>$3.01</td>\n",
       "      <td>$6.02</td>\n",
       "    </tr>\n",
       "    <tr>\n",
       "      <th>Yoishirrala98</th>\n",
       "      <td>1</td>\n",
       "      <td>$4.58</td>\n",
       "      <td>$4.58</td>\n",
       "    </tr>\n",
       "    <tr>\n",
       "      <th>Zhisrisu83</th>\n",
       "      <td>2</td>\n",
       "      <td>$3.94</td>\n",
       "      <td>$7.89</td>\n",
       "    </tr>\n",
       "    <tr>\n",
       "      <th>Zontibe81</th>\n",
       "      <td>3</td>\n",
       "      <td>$2.68</td>\n",
       "      <td>$8.03</td>\n",
       "    </tr>\n",
       "  </tbody>\n",
       "</table>\n",
       "<p>576 rows × 3 columns</p>\n",
       "</div>"
      ],
      "text/plain": [
       "               Purchase Count Average Purchase Price Total Purchase Price\n",
       "SN                                                                       \n",
       "Adairialis76                1                  $2.28                $2.28\n",
       "Adastirin33                 1                  $4.48                $4.48\n",
       "Aeda94                      1                  $4.91                $4.91\n",
       "Aela59                      1                  $4.32                $4.32\n",
       "Aelaria33                   1                  $1.79                $1.79\n",
       "...                       ...                    ...                  ...\n",
       "Yathecal82                  3                  $2.07                $6.22\n",
       "Yathedeu43                  2                  $3.01                $6.02\n",
       "Yoishirrala98               1                  $4.58                $4.58\n",
       "Zhisrisu83                  2                  $3.94                $7.89\n",
       "Zontibe81                   3                  $2.68                $8.03\n",
       "\n",
       "[576 rows x 3 columns]"
      ]
     },
     "execution_count": 246,
     "metadata": {},
     "output_type": "execute_result"
    }
   ],
   "source": [
    "top_spenders_df = pd.DataFrame({\"Purchase Count\": purchase_id,\n",
    "                            \"Average Purchase Price\": avg_purchase_price,\n",
    "                            \"Total Purchase Price\": total_purchase_price})\n",
    "top_spenders_df[\"Average Purchase Price\"] = top_spenders_df[\"Average Purchase Price\"].map(\"${:.2f}\".format)\n",
    "top_spenders_df[\"Total Purchase Price\"] = top_spenders_df[\"Total Purchase Price\"].map(\"${:.2f}\".format)\n",
    "top_spenders_df\n"
   ]
  },
  {
   "cell_type": "code",
   "execution_count": 248,
   "metadata": {},
   "outputs": [
    {
     "data": {
      "text/html": [
       "<div>\n",
       "<style scoped>\n",
       "    .dataframe tbody tr th:only-of-type {\n",
       "        vertical-align: middle;\n",
       "    }\n",
       "\n",
       "    .dataframe tbody tr th {\n",
       "        vertical-align: top;\n",
       "    }\n",
       "\n",
       "    .dataframe thead th {\n",
       "        text-align: right;\n",
       "    }\n",
       "</style>\n",
       "<table border=\"1\" class=\"dataframe\">\n",
       "  <thead>\n",
       "    <tr style=\"text-align: right;\">\n",
       "      <th></th>\n",
       "      <th>Purchase Count</th>\n",
       "      <th>Average Purchase Price</th>\n",
       "      <th>Total Purchase Price</th>\n",
       "    </tr>\n",
       "    <tr>\n",
       "      <th>SN</th>\n",
       "      <th></th>\n",
       "      <th></th>\n",
       "      <th></th>\n",
       "    </tr>\n",
       "  </thead>\n",
       "  <tbody>\n",
       "    <tr>\n",
       "      <th>Haillyrgue51</th>\n",
       "      <td>3</td>\n",
       "      <td>$3.17</td>\n",
       "      <td>$9.50</td>\n",
       "    </tr>\n",
       "    <tr>\n",
       "      <th>Phistym51</th>\n",
       "      <td>2</td>\n",
       "      <td>$4.75</td>\n",
       "      <td>$9.50</td>\n",
       "    </tr>\n",
       "    <tr>\n",
       "      <th>Lamil79</th>\n",
       "      <td>2</td>\n",
       "      <td>$4.64</td>\n",
       "      <td>$9.29</td>\n",
       "    </tr>\n",
       "    <tr>\n",
       "      <th>Aina42</th>\n",
       "      <td>3</td>\n",
       "      <td>$3.07</td>\n",
       "      <td>$9.22</td>\n",
       "    </tr>\n",
       "    <tr>\n",
       "      <th>Saesrideu94</th>\n",
       "      <td>2</td>\n",
       "      <td>$4.59</td>\n",
       "      <td>$9.18</td>\n",
       "    </tr>\n",
       "  </tbody>\n",
       "</table>\n",
       "</div>"
      ],
      "text/plain": [
       "              Purchase Count Average Purchase Price Total Purchase Price\n",
       "SN                                                                      \n",
       "Haillyrgue51               3                  $3.17                $9.50\n",
       "Phistym51                  2                  $4.75                $9.50\n",
       "Lamil79                    2                  $4.64                $9.29\n",
       "Aina42                     3                  $3.07                $9.22\n",
       "Saesrideu94                2                  $4.59                $9.18"
      ]
     },
     "execution_count": 248,
     "metadata": {},
     "output_type": "execute_result"
    }
   ],
   "source": [
    "top_spenders_df_desc = top_spenders_df.sort_values([\"Total Purchase Price\"], ascending = False).head()\n",
    "top_spenders_df_desc"
   ]
  },
  {
   "cell_type": "markdown",
   "metadata": {},
   "source": [
    "## Most Popular Items"
   ]
  },
  {
   "cell_type": "markdown",
   "metadata": {},
   "source": [
    "* Retrieve the Item ID, Item Name, and Item Price columns\n",
    "\n",
    "\n",
    "* Group by Item ID and Item Name. Perform calculations to obtain purchase count, average item price, and total purchase value\n",
    "\n",
    "\n",
    "* Create a summary data frame to hold the results\n",
    "\n",
    "\n",
    "* Sort the purchase count column in descending order\n",
    "\n",
    "\n",
    "* Optional: give the displayed data cleaner formatting\n",
    "\n",
    "\n",
    "* Display a preview of the summary data frame\n",
    "\n"
   ]
  },
  {
   "cell_type": "code",
   "execution_count": 249,
   "metadata": {},
   "outputs": [
    {
     "data": {
      "text/html": [
       "<div>\n",
       "<style scoped>\n",
       "    .dataframe tbody tr th:only-of-type {\n",
       "        vertical-align: middle;\n",
       "    }\n",
       "\n",
       "    .dataframe tbody tr th {\n",
       "        vertical-align: top;\n",
       "    }\n",
       "\n",
       "    .dataframe thead th {\n",
       "        text-align: right;\n",
       "    }\n",
       "</style>\n",
       "<table border=\"1\" class=\"dataframe\">\n",
       "  <thead>\n",
       "    <tr style=\"text-align: right;\">\n",
       "      <th></th>\n",
       "      <th>Item ID</th>\n",
       "      <th>Item Name</th>\n",
       "      <th>Price</th>\n",
       "    </tr>\n",
       "  </thead>\n",
       "  <tbody>\n",
       "    <tr>\n",
       "      <th>0</th>\n",
       "      <td>108</td>\n",
       "      <td>Extraction, Quickblade Of Trembling Hands</td>\n",
       "      <td>3.53</td>\n",
       "    </tr>\n",
       "    <tr>\n",
       "      <th>1</th>\n",
       "      <td>143</td>\n",
       "      <td>Frenzied Scimitar</td>\n",
       "      <td>1.56</td>\n",
       "    </tr>\n",
       "    <tr>\n",
       "      <th>2</th>\n",
       "      <td>92</td>\n",
       "      <td>Final Critic</td>\n",
       "      <td>4.88</td>\n",
       "    </tr>\n",
       "    <tr>\n",
       "      <th>3</th>\n",
       "      <td>100</td>\n",
       "      <td>Blindscythe</td>\n",
       "      <td>3.27</td>\n",
       "    </tr>\n",
       "    <tr>\n",
       "      <th>4</th>\n",
       "      <td>131</td>\n",
       "      <td>Fury</td>\n",
       "      <td>1.44</td>\n",
       "    </tr>\n",
       "    <tr>\n",
       "      <th>...</th>\n",
       "      <td>...</td>\n",
       "      <td>...</td>\n",
       "      <td>...</td>\n",
       "    </tr>\n",
       "    <tr>\n",
       "      <th>775</th>\n",
       "      <td>60</td>\n",
       "      <td>Wolf</td>\n",
       "      <td>3.54</td>\n",
       "    </tr>\n",
       "    <tr>\n",
       "      <th>776</th>\n",
       "      <td>164</td>\n",
       "      <td>Exiled Doomblade</td>\n",
       "      <td>1.63</td>\n",
       "    </tr>\n",
       "    <tr>\n",
       "      <th>777</th>\n",
       "      <td>67</td>\n",
       "      <td>Celeste, Incarnation of the Corrupted</td>\n",
       "      <td>3.46</td>\n",
       "    </tr>\n",
       "    <tr>\n",
       "      <th>778</th>\n",
       "      <td>92</td>\n",
       "      <td>Final Critic</td>\n",
       "      <td>4.19</td>\n",
       "    </tr>\n",
       "    <tr>\n",
       "      <th>779</th>\n",
       "      <td>50</td>\n",
       "      <td>Dawn</td>\n",
       "      <td>4.60</td>\n",
       "    </tr>\n",
       "  </tbody>\n",
       "</table>\n",
       "<p>780 rows × 3 columns</p>\n",
       "</div>"
      ],
      "text/plain": [
       "     Item ID                                  Item Name  Price\n",
       "0        108  Extraction, Quickblade Of Trembling Hands   3.53\n",
       "1        143                          Frenzied Scimitar   1.56\n",
       "2         92                               Final Critic   4.88\n",
       "3        100                                Blindscythe   3.27\n",
       "4        131                                       Fury   1.44\n",
       "..       ...                                        ...    ...\n",
       "775       60                                       Wolf   3.54\n",
       "776      164                           Exiled Doomblade   1.63\n",
       "777       67      Celeste, Incarnation of the Corrupted   3.46\n",
       "778       92                               Final Critic   4.19\n",
       "779       50                                       Dawn   4.60\n",
       "\n",
       "[780 rows x 3 columns]"
      ]
     },
     "execution_count": 249,
     "metadata": {},
     "output_type": "execute_result"
    }
   ],
   "source": [
    "items = purchase_data_df[[\"Item ID\", \"Item Name\", \"Price\"]]\n",
    "items"
   ]
  },
  {
   "cell_type": "code",
   "execution_count": 250,
   "metadata": {},
   "outputs": [
    {
     "data": {
      "text/plain": [
       "<pandas.core.groupby.generic.DataFrameGroupBy object at 0x000001C8A6343EB0>"
      ]
     },
     "execution_count": 250,
     "metadata": {},
     "output_type": "execute_result"
    }
   ],
   "source": [
    "grouped_items = items.groupby([\"Item ID\", \"Item Name\"])\n",
    "grouped_items"
   ]
  },
  {
   "cell_type": "code",
   "execution_count": 252,
   "metadata": {},
   "outputs": [
    {
     "data": {
      "text/plain": [
       "Item ID  Item Name                                   \n",
       "0        Splinter                                         4\n",
       "1        Crucifer                                         4\n",
       "2        Verdict                                          6\n",
       "3        Phantomlight                                     6\n",
       "4        Bloodlord's Fetish                               5\n",
       "                                                         ..\n",
       "178      Oathbreaker, Last Hope of the Breaking Storm    12\n",
       "179      Wolf, Promise of the Moonwalker                  6\n",
       "181      Reaper's Toll                                    5\n",
       "182      Toothpick                                        3\n",
       "183      Dragon's Greatsword                              3\n",
       "Name: Price, Length: 179, dtype: int64"
      ]
     },
     "execution_count": 252,
     "metadata": {},
     "output_type": "execute_result"
    }
   ],
   "source": [
    "purchase_count_items = grouped_items[\"Price\"].count()\n",
    "purchase_count_items"
   ]
  },
  {
   "cell_type": "code",
   "execution_count": 254,
   "metadata": {},
   "outputs": [
    {
     "data": {
      "text/plain": [
       "Item ID  Item Name                                   \n",
       "0        Splinter                                         5.12\n",
       "1        Crucifer                                        11.77\n",
       "2        Verdict                                         14.88\n",
       "3        Phantomlight                                    14.94\n",
       "4        Bloodlord's Fetish                               8.50\n",
       "                                                         ...  \n",
       "178      Oathbreaker, Last Hope of the Breaking Storm    50.76\n",
       "179      Wolf, Promise of the Moonwalker                 26.88\n",
       "181      Reaper's Toll                                    8.30\n",
       "182      Toothpick                                       12.09\n",
       "183      Dragon's Greatsword                              3.27\n",
       "Name: Price, Length: 179, dtype: float64"
      ]
     },
     "execution_count": 254,
     "metadata": {},
     "output_type": "execute_result"
    }
   ],
   "source": [
    "item_price_grouped = grouped_items[\"Price\"].sum()\n",
    "item_price_grouped"
   ]
  },
  {
   "cell_type": "code",
   "execution_count": 255,
   "metadata": {},
   "outputs": [
    {
     "data": {
      "text/plain": [
       "Item ID  Item Name                                   \n",
       "0        Splinter                                        1.2800\n",
       "1        Crucifer                                        2.9425\n",
       "2        Verdict                                         2.4800\n",
       "3        Phantomlight                                    2.4900\n",
       "4        Bloodlord's Fetish                              1.7000\n",
       "                                                          ...  \n",
       "178      Oathbreaker, Last Hope of the Breaking Storm    4.2300\n",
       "179      Wolf, Promise of the Moonwalker                 4.4800\n",
       "181      Reaper's Toll                                   1.6600\n",
       "182      Toothpick                                       4.0300\n",
       "183      Dragon's Greatsword                             1.0900\n",
       "Name: Price, Length: 179, dtype: float64"
      ]
     },
     "execution_count": 255,
     "metadata": {},
     "output_type": "execute_result"
    }
   ],
   "source": [
    "item_price = item_price_grouped/purchase_count_items\n",
    "item_price"
   ]
  },
  {
   "cell_type": "code",
   "execution_count": 257,
   "metadata": {},
   "outputs": [
    {
     "data": {
      "text/html": [
       "<div>\n",
       "<style scoped>\n",
       "    .dataframe tbody tr th:only-of-type {\n",
       "        vertical-align: middle;\n",
       "    }\n",
       "\n",
       "    .dataframe tbody tr th {\n",
       "        vertical-align: top;\n",
       "    }\n",
       "\n",
       "    .dataframe thead th {\n",
       "        text-align: right;\n",
       "    }\n",
       "</style>\n",
       "<table border=\"1\" class=\"dataframe\">\n",
       "  <thead>\n",
       "    <tr style=\"text-align: right;\">\n",
       "      <th></th>\n",
       "      <th></th>\n",
       "      <th>Purchase Count</th>\n",
       "      <th>Item Price</th>\n",
       "      <th>Total Purchase Value</th>\n",
       "    </tr>\n",
       "    <tr>\n",
       "      <th>Item ID</th>\n",
       "      <th>Item Name</th>\n",
       "      <th></th>\n",
       "      <th></th>\n",
       "      <th></th>\n",
       "    </tr>\n",
       "  </thead>\n",
       "  <tbody>\n",
       "    <tr>\n",
       "      <th>0</th>\n",
       "      <th>Splinter</th>\n",
       "      <td>4</td>\n",
       "      <td>$1.28</td>\n",
       "      <td>$5.12</td>\n",
       "    </tr>\n",
       "    <tr>\n",
       "      <th>1</th>\n",
       "      <th>Crucifer</th>\n",
       "      <td>4</td>\n",
       "      <td>$2.94</td>\n",
       "      <td>$11.77</td>\n",
       "    </tr>\n",
       "    <tr>\n",
       "      <th>2</th>\n",
       "      <th>Verdict</th>\n",
       "      <td>6</td>\n",
       "      <td>$2.48</td>\n",
       "      <td>$14.88</td>\n",
       "    </tr>\n",
       "    <tr>\n",
       "      <th>3</th>\n",
       "      <th>Phantomlight</th>\n",
       "      <td>6</td>\n",
       "      <td>$2.49</td>\n",
       "      <td>$14.94</td>\n",
       "    </tr>\n",
       "    <tr>\n",
       "      <th>4</th>\n",
       "      <th>Bloodlord's Fetish</th>\n",
       "      <td>5</td>\n",
       "      <td>$1.70</td>\n",
       "      <td>$8.50</td>\n",
       "    </tr>\n",
       "    <tr>\n",
       "      <th>...</th>\n",
       "      <th>...</th>\n",
       "      <td>...</td>\n",
       "      <td>...</td>\n",
       "      <td>...</td>\n",
       "    </tr>\n",
       "    <tr>\n",
       "      <th>178</th>\n",
       "      <th>Oathbreaker, Last Hope of the Breaking Storm</th>\n",
       "      <td>12</td>\n",
       "      <td>$4.23</td>\n",
       "      <td>$50.76</td>\n",
       "    </tr>\n",
       "    <tr>\n",
       "      <th>179</th>\n",
       "      <th>Wolf, Promise of the Moonwalker</th>\n",
       "      <td>6</td>\n",
       "      <td>$4.48</td>\n",
       "      <td>$26.88</td>\n",
       "    </tr>\n",
       "    <tr>\n",
       "      <th>181</th>\n",
       "      <th>Reaper's Toll</th>\n",
       "      <td>5</td>\n",
       "      <td>$1.66</td>\n",
       "      <td>$8.30</td>\n",
       "    </tr>\n",
       "    <tr>\n",
       "      <th>182</th>\n",
       "      <th>Toothpick</th>\n",
       "      <td>3</td>\n",
       "      <td>$4.03</td>\n",
       "      <td>$12.09</td>\n",
       "    </tr>\n",
       "    <tr>\n",
       "      <th>183</th>\n",
       "      <th>Dragon's Greatsword</th>\n",
       "      <td>3</td>\n",
       "      <td>$1.09</td>\n",
       "      <td>$3.27</td>\n",
       "    </tr>\n",
       "  </tbody>\n",
       "</table>\n",
       "<p>179 rows × 3 columns</p>\n",
       "</div>"
      ],
      "text/plain": [
       "                                                      Purchase Count  \\\n",
       "Item ID Item Name                                                      \n",
       "0       Splinter                                                   4   \n",
       "1       Crucifer                                                   4   \n",
       "2       Verdict                                                    6   \n",
       "3       Phantomlight                                               6   \n",
       "4       Bloodlord's Fetish                                         5   \n",
       "...                                                              ...   \n",
       "178     Oathbreaker, Last Hope of the Breaking Storm              12   \n",
       "179     Wolf, Promise of the Moonwalker                            6   \n",
       "181     Reaper's Toll                                              5   \n",
       "182     Toothpick                                                  3   \n",
       "183     Dragon's Greatsword                                        3   \n",
       "\n",
       "                                                     Item Price  \\\n",
       "Item ID Item Name                                                 \n",
       "0       Splinter                                          $1.28   \n",
       "1       Crucifer                                          $2.94   \n",
       "2       Verdict                                           $2.48   \n",
       "3       Phantomlight                                      $2.49   \n",
       "4       Bloodlord's Fetish                                $1.70   \n",
       "...                                                         ...   \n",
       "178     Oathbreaker, Last Hope of the Breaking Storm      $4.23   \n",
       "179     Wolf, Promise of the Moonwalker                   $4.48   \n",
       "181     Reaper's Toll                                     $1.66   \n",
       "182     Toothpick                                         $4.03   \n",
       "183     Dragon's Greatsword                               $1.09   \n",
       "\n",
       "                                                     Total Purchase Value  \n",
       "Item ID Item Name                                                          \n",
       "0       Splinter                                                    $5.12  \n",
       "1       Crucifer                                                   $11.77  \n",
       "2       Verdict                                                    $14.88  \n",
       "3       Phantomlight                                               $14.94  \n",
       "4       Bloodlord's Fetish                                          $8.50  \n",
       "...                                                                   ...  \n",
       "178     Oathbreaker, Last Hope of the Breaking Storm               $50.76  \n",
       "179     Wolf, Promise of the Moonwalker                            $26.88  \n",
       "181     Reaper's Toll                                               $8.30  \n",
       "182     Toothpick                                                  $12.09  \n",
       "183     Dragon's Greatsword                                         $3.27  \n",
       "\n",
       "[179 rows x 3 columns]"
      ]
     },
     "execution_count": 257,
     "metadata": {},
     "output_type": "execute_result"
    }
   ],
   "source": [
    "most_popular_items_df = pd.DataFrame({\"Purchase Count\": purchase_count_items,\n",
    "                                  \"Item Price\": item_price,\n",
    "                                  \"Total Purchase Value\": item_price_grouped})\n",
    "most_popular_items_df[\"Item Price\"] = most_popular_items_df[\"Item Price\"].map(\"${:.2f}\".format)\n",
    "most_popular_items_df[\"Total Purchase Value\"] = most_popular_items_df[\"Total Purchase Value\"].map(\"${:.2f}\".format)\n",
    "most_popular_items_df"
   ]
  },
  {
   "cell_type": "code",
   "execution_count": 261,
   "metadata": {},
   "outputs": [
    {
     "data": {
      "text/html": [
       "<div>\n",
       "<style scoped>\n",
       "    .dataframe tbody tr th:only-of-type {\n",
       "        vertical-align: middle;\n",
       "    }\n",
       "\n",
       "    .dataframe tbody tr th {\n",
       "        vertical-align: top;\n",
       "    }\n",
       "\n",
       "    .dataframe thead th {\n",
       "        text-align: right;\n",
       "    }\n",
       "</style>\n",
       "<table border=\"1\" class=\"dataframe\">\n",
       "  <thead>\n",
       "    <tr style=\"text-align: right;\">\n",
       "      <th></th>\n",
       "      <th></th>\n",
       "      <th>Purchase Count</th>\n",
       "      <th>Item Price</th>\n",
       "      <th>Total Purchase Value</th>\n",
       "    </tr>\n",
       "    <tr>\n",
       "      <th>Item ID</th>\n",
       "      <th>Item Name</th>\n",
       "      <th></th>\n",
       "      <th></th>\n",
       "      <th></th>\n",
       "    </tr>\n",
       "  </thead>\n",
       "  <tbody>\n",
       "    <tr>\n",
       "      <th>92</th>\n",
       "      <th>Final Critic</th>\n",
       "      <td>13</td>\n",
       "      <td>$4.61</td>\n",
       "      <td>$59.99</td>\n",
       "    </tr>\n",
       "    <tr>\n",
       "      <th>178</th>\n",
       "      <th>Oathbreaker, Last Hope of the Breaking Storm</th>\n",
       "      <td>12</td>\n",
       "      <td>$4.23</td>\n",
       "      <td>$50.76</td>\n",
       "    </tr>\n",
       "    <tr>\n",
       "      <th>145</th>\n",
       "      <th>Fiery Glass Crusader</th>\n",
       "      <td>9</td>\n",
       "      <td>$4.58</td>\n",
       "      <td>$41.22</td>\n",
       "    </tr>\n",
       "    <tr>\n",
       "      <th>132</th>\n",
       "      <th>Persuasion</th>\n",
       "      <td>9</td>\n",
       "      <td>$3.22</td>\n",
       "      <td>$28.99</td>\n",
       "    </tr>\n",
       "    <tr>\n",
       "      <th>108</th>\n",
       "      <th>Extraction, Quickblade Of Trembling Hands</th>\n",
       "      <td>9</td>\n",
       "      <td>$3.53</td>\n",
       "      <td>$31.77</td>\n",
       "    </tr>\n",
       "  </tbody>\n",
       "</table>\n",
       "</div>"
      ],
      "text/plain": [
       "                                                      Purchase Count  \\\n",
       "Item ID Item Name                                                      \n",
       "92      Final Critic                                              13   \n",
       "178     Oathbreaker, Last Hope of the Breaking Storm              12   \n",
       "145     Fiery Glass Crusader                                       9   \n",
       "132     Persuasion                                                 9   \n",
       "108     Extraction, Quickblade Of Trembling Hands                  9   \n",
       "\n",
       "                                                     Item Price  \\\n",
       "Item ID Item Name                                                 \n",
       "92      Final Critic                                      $4.61   \n",
       "178     Oathbreaker, Last Hope of the Breaking Storm      $4.23   \n",
       "145     Fiery Glass Crusader                              $4.58   \n",
       "132     Persuasion                                        $3.22   \n",
       "108     Extraction, Quickblade Of Trembling Hands         $3.53   \n",
       "\n",
       "                                                     Total Purchase Value  \n",
       "Item ID Item Name                                                          \n",
       "92      Final Critic                                               $59.99  \n",
       "178     Oathbreaker, Last Hope of the Breaking Storm               $50.76  \n",
       "145     Fiery Glass Crusader                                       $41.22  \n",
       "132     Persuasion                                                 $28.99  \n",
       "108     Extraction, Quickblade Of Trembling Hands                  $31.77  "
      ]
     },
     "execution_count": 261,
     "metadata": {},
     "output_type": "execute_result"
    }
   ],
   "source": [
    "pop_order = most_popular_items_df.sort_values([\"Purchase Count\"], ascending = False).head()\n",
    "pop_order"
   ]
  },
  {
   "cell_type": "markdown",
   "metadata": {},
   "source": [
    "## Most Profitable Items"
   ]
  },
  {
   "cell_type": "markdown",
   "metadata": {},
   "source": [
    "* Sort the above table by total purchase value in descending order\n",
    "\n",
    "\n",
    "* Optional: give the displayed data cleaner formatting\n",
    "\n",
    "\n",
    "* Display a preview of the data frame\n",
    "\n"
   ]
  },
  {
   "cell_type": "code",
   "execution_count": null,
   "metadata": {
    "scrolled": true
   },
   "outputs": [],
   "source": []
  },
  {
   "cell_type": "code",
   "execution_count": null,
   "metadata": {},
   "outputs": [],
   "source": []
  },
  {
   "cell_type": "code",
   "execution_count": null,
   "metadata": {},
   "outputs": [],
   "source": []
  },
  {
   "cell_type": "code",
   "execution_count": null,
   "metadata": {},
   "outputs": [],
   "source": []
  }
 ],
 "metadata": {
  "anaconda-cloud": {},
  "kernel_info": {
   "name": "python3"
  },
  "kernelspec": {
   "display_name": "Python 3",
   "language": "python",
   "name": "python3"
  },
  "language_info": {
   "codemirror_mode": {
    "name": "ipython",
    "version": 3
   },
   "file_extension": ".py",
   "mimetype": "text/x-python",
   "name": "python",
   "nbconvert_exporter": "python",
   "pygments_lexer": "ipython3",
   "version": "3.8.5"
  },
  "latex_envs": {
   "LaTeX_envs_menu_present": true,
   "autoclose": false,
   "autocomplete": true,
   "bibliofile": "biblio.bib",
   "cite_by": "apalike",
   "current_citInitial": 1,
   "eqLabelWithNumbers": true,
   "eqNumInitial": 1,
   "hotkeys": {
    "equation": "Ctrl-E",
    "itemize": "Ctrl-I"
   },
   "labels_anchors": false,
   "latex_user_defs": false,
   "report_style_numbering": false,
   "user_envs_cfg": false
  },
  "nteract": {
   "version": "0.2.0"
  }
 },
 "nbformat": 4,
 "nbformat_minor": 2
}
